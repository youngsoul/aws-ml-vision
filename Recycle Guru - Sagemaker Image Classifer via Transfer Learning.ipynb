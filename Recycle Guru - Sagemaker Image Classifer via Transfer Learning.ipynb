{
 "cells": [
  {
   "cell_type": "markdown",
   "metadata": {},
   "source": [
    "# Recycle Guru - Training and Deploying a Custom Image Classifier with Amazon SageMaker"
   ]
  },
  {
   "cell_type": "markdown",
   "metadata": {},
   "source": [
    "## Configure where to fetch our training data\n",
    "\n",
    "All of our images live inside an S3 bucket, organized into folders in a structure similar to this:\n",
    "\n",
    "```\n",
    "recycle-images\n",
    "├── coffee\n",
    "│   ├── cup1.jpg\n",
    "│   ├── cup2.jpg\n",
    "|   ├── cup2.jpg\n",
    "│   └── . . .\n",
    "└── water_bottle\n",
    "│   ├── waterbottle1.jpg\n",
    "│   ├── waterbottle2.jpg    \n",
    "│   ├── waterbottle3.jpg\n",
    "│   ├── . . .\n",
    "└── . . .\n",
    "```\n",
    "Based on original notebook and AWS presentation by Gabe Hollombe"
   ]
  },
  {
   "cell_type": "code",
   "execution_count": 1,
   "metadata": {},
   "outputs": [],
   "source": [
    "# An S3 Bucket Name\n",
    "data_bucket_name='recycle-guru'\n",
    "\n",
    "# A prefix name inside the S3 bucket containing sub-folders of images (one per label class)\n",
    "dataset_name = 'recycle-images' \n"
   ]
  },
  {
   "cell_type": "markdown",
   "metadata": {},
   "source": [
    "## Setting up the environment\n",
    "Here we set up the linkage and authentication to AWS services\n",
    "\n",
    "- The role used to give learning and hosting access to your data. This will automatically be obtained from the role used to start the notebook\n",
    "- A `session` variable that holds some configuration state for interacting with SageMaker from Python and contains some methods for preparing input data\n",
    "- A reference to the Amazon sagemaker image classification docker image \n",
    "\n",
    "More info about the SageMaker built-in Image Classification algorithm here: https://docs.aws.amazon.com/sagemaker/latest/dg/image-classification.html"
   ]
  },
  {
   "cell_type": "code",
   "execution_count": 2,
   "metadata": {},
   "outputs": [],
   "source": [
    "import sagemaker\n",
    "from sagemaker import get_execution_role\n",
    "from sagemaker.amazon.amazon_estimator import get_image_uri\n",
    "\n",
    "role = get_execution_role()\n",
    "sess = sagemaker.Session()\n",
    "\n",
    "training_image = get_image_uri(sess.boto_region_name, 'image-classification', repo_version=\"latest\")"
   ]
  },
  {
   "cell_type": "markdown",
   "metadata": {},
   "source": [
    "## Preparing data for our model\n",
    "Before we can train our model, we need to:\n",
    "\n",
    "- Create some files that will teach SageMaker about the images in each of our classes\n",
    "- Upload these additional files to S3\n",
    "- Configure our model to use these files for training and validating"
   ]
  },
  {
   "cell_type": "markdown",
   "metadata": {},
   "source": [
    "### Find the im2rec.py script on this system\n",
    "The SageMaker image classifier algorithm needs to know about which images belong to which classes. We provide this data using either LST or RecordIO files. We'll use a python script called `im2rec.py` to create these files.\n",
    "\n",
    "More info here: https://docs.aws.amazon.com/sagemaker/latest/dg/image-classification.html#IC-inputoutput"
   ]
  },
  {
   "cell_type": "code",
   "execution_count": 3,
   "metadata": {},
   "outputs": [
    {
     "name": "stdout",
     "output_type": "stream",
     "text": [
      "env: BASE_DIR=/tmp\n",
      "env: S3_DATA_BUCKET_NAME=recycle-guru\n",
      "env: DATASET_NAME=recycle-images\n",
      "env: IM2REC=/home/ec2-user/anaconda3/envs/mxnet_p36/lib/python3.6/site-packages/mxnet/tools/im2rec.py\n"
     ]
    }
   ],
   "source": [
    "# Find im2rec in our environment and set up some other vars in our environemnt\n",
    "\n",
    "base_dir='/tmp'\n",
    "\n",
    "%env BASE_DIR=$base_dir\n",
    "%env S3_DATA_BUCKET_NAME = $data_bucket_name\n",
    "%env DATASET_NAME = $dataset_name\n",
    "\n",
    "import sys,os\n",
    "\n",
    "suffix='/mxnet/tools/im2rec.py'\n",
    "im2rec = list(filter( (lambda x: os.path.isfile(x + suffix )), sys.path))[0] + suffix\n",
    "%env IM2REC=$im2rec"
   ]
  },
  {
   "cell_type": "markdown",
   "metadata": {},
   "source": [
    "### Get our training images from S3\n",
    "In order to create training and validation RecordIO files, we need to download our images to our local filesystem."
   ]
  },
  {
   "cell_type": "code",
   "execution_count": 4,
   "metadata": {},
   "outputs": [],
   "source": [
    "# Pull our images from S3\n",
    "!aws s3 sync s3://$S3_DATA_BUCKET_NAME/$DATASET_NAME $BASE_DIR/$DATASET_NAME --quiet"
   ]
  },
  {
   "cell_type": "markdown",
   "metadata": {},
   "source": [
    "### Create RecordIO files from our training images\n",
    "The `im2rec.py` script can create LST files and/or RecordIO files from our training data. \n",
    "\n",
    "More info here: https://mxnet.incubator.apache.org/versions/master/faq/recordio.html"
   ]
  },
  {
   "cell_type": "code",
   "execution_count": 5,
   "metadata": {},
   "outputs": [
    {
     "name": "stdout",
     "output_type": "stream",
     "text": [
      "Creating LST files\n",
      "Label classes:\n",
      "coffee 0\n",
      "coffee_cup 1\n",
      "markers 2\n",
      "raspberry_pi 3\n",
      "timmy 4\n",
      "water_bottle 5\n",
      "Creating RecordIO files\n",
      "Creating .rec file from /tmp/recycle-images_train.lst in /tmp\n",
      "time: 0.0007708072662353516  count: 0\n",
      "Creating .rec file from /tmp/recycle-images_test.lst in /tmp\n",
      "time: 0.010559797286987305  count: 0\n",
      "-rw-rw-r-- 1 ec2-user ec2-user 622K Oct 31 16:31 recycle-images_test.rec\n",
      "-rw-rw-r-- 1 ec2-user ec2-user 1.5M Oct 31 16:31 recycle-images_train.rec\n"
     ]
    }
   ],
   "source": [
    "%%bash\n",
    "# Use the IM2REC script to convert our images into RecordIO files\n",
    "\n",
    "# Clean up our working dir of existing LST and REC files\n",
    "cd $BASE_DIR\n",
    "rm *.rec\n",
    "rm *.lst\n",
    "\n",
    "# First we need to create two LST files (training and test lists), noting the correct label class for each image\n",
    "# We'll also save the output of the LST files command, since it includes a list of all of our label classes\n",
    "echo \"Creating LST files\"\n",
    "python $IM2REC --list --recursive --pass-through --test-ratio=0.3 --train-ratio=0.7 $DATASET_NAME $DATASET_NAME > ${DATASET_NAME}_classes\n",
    "\n",
    "echo \"Label classes:\"\n",
    "cat ${DATASET_NAME}_classes\n",
    "\n",
    "# Then we create RecordIO files from the LST files\n",
    "echo \"Creating RecordIO files\"\n",
    "python $IM2REC --num-thread=4 ${DATASET_NAME}_train.lst $DATASET_NAME\n",
    "python $IM2REC --num-thread=4 ${DATASET_NAME}_test.lst $DATASET_NAME\n",
    "ls -lh *.rec"
   ]
  },
  {
   "cell_type": "markdown",
   "metadata": {},
   "source": [
    "### Upload our training and test data RecordIO files so we can train with them\n",
    "Now that we have our training and test .rec files, we upload them to S3 so SageMaker can use them for training"
   ]
  },
  {
   "cell_type": "code",
   "execution_count": 6,
   "metadata": {},
   "outputs": [
    {
     "name": "stdout",
     "output_type": "stream",
     "text": [
      "delete: s3://sagemaker-us-east-1-023375022819/recycle-images/train/recycle-images_train.rec\n",
      "delete: s3://sagemaker-us-east-1-023375022819/recycle-images/validation/recycle-images_test.rec\n",
      "upload: ../../../../tmp/recycle-images_train.rec to s3://sagemaker-us-east-1-023375022819/recycle-images/train/recycle-images_train.rec\n",
      "upload: ../../../../tmp/recycle-images_test.rec to s3://sagemaker-us-east-1-023375022819/recycle-images/validation/recycle-images_test.rec\n"
     ]
    }
   ],
   "source": [
    "# Upload our train and test RecordIO files to S3 in the bucket that our sagemaker session is using\n",
    "bucket = sess.default_bucket()\n",
    "\n",
    "s3train_path = 's3://{}/{}/train/'.format(bucket, dataset_name)\n",
    "s3validation_path = 's3://{}/{}/validation/'.format(bucket, dataset_name)\n",
    "\n",
    "# Clean up any existing data\n",
    "!aws s3 rm s3://{bucket}/{dataset_name}/train --recursive\n",
    "!aws s3 rm s3://{bucket}/{dataset_name}/validation --recursive\n",
    "\n",
    "# Upload the rec files to the train and validation channels\n",
    "!aws s3 cp /tmp/{dataset_name}_train.rec $s3train_path\n",
    "!aws s3 cp /tmp/{dataset_name}_test.rec $s3validation_path"
   ]
  },
  {
   "cell_type": "markdown",
   "metadata": {},
   "source": [
    "### Configure the data for our model training to use\n",
    "Finally, we tell SageMaker where to find these RecordIO files to use for training"
   ]
  },
  {
   "cell_type": "code",
   "execution_count": 7,
   "metadata": {},
   "outputs": [],
   "source": [
    "train_data = sagemaker.session.s3_input(\n",
    "    s3train_path, \n",
    "    distribution='FullyReplicated', \n",
    "    content_type='application/x-recordio', \n",
    "    s3_data_type='S3Prefix'\n",
    ")\n",
    "\n",
    "validation_data = sagemaker.session.s3_input(\n",
    "    s3validation_path, \n",
    "    distribution='FullyReplicated', \n",
    "    content_type='application/x-recordio', \n",
    "    s3_data_type='S3Prefix'\n",
    ")\n",
    "\n",
    "data_channels = {'train': train_data, 'validation': validation_data}"
   ]
  },
  {
   "cell_type": "markdown",
   "metadata": {},
   "source": [
    "## Training\n",
    "Now it's time to train our model!"
   ]
  },
  {
   "cell_type": "markdown",
   "metadata": {},
   "source": [
    "### Create an image classifier object with some base configuration\n",
    "More info here: https://sagemaker.readthedocs.io/en/stable/estimators.html#sagemaker.estimator.Estimator"
   ]
  },
  {
   "cell_type": "code",
   "execution_count": 8,
   "metadata": {},
   "outputs": [],
   "source": [
    "s3_output_location = 's3://{}/{}/output'.format(bucket, dataset_name)\n",
    "\n",
    "image_classifier = sagemaker.estimator.Estimator(\n",
    "    training_image,\n",
    "    role, \n",
    "    train_instance_count=1, \n",
    "    train_instance_type='ml.p3.2xlarge',\n",
    "    output_path=s3_output_location,\n",
    "    sagemaker_session=sess\n",
    ")"
   ]
  },
  {
   "cell_type": "markdown",
   "metadata": {},
   "source": [
    "### Set some training hyperparameters\n",
    "\n",
    "Finally, before we train, we provide some additional configuration parameters for the training.\n",
    "\n",
    "More info here: https://docs.aws.amazon.com/sagemaker/latest/dg/IC-Hyperparameter.html"
   ]
  },
  {
   "cell_type": "code",
   "execution_count": 9,
   "metadata": {},
   "outputs": [
    {
     "data": {
      "text/plain": [
       "{'use_pretrained_model': 1,\n",
       " 'image_shape': '3,224,224',\n",
       " 'num_classes': 6,\n",
       " 'num_training_samples': 130,\n",
       " 'augmentation_type': 'crop_color_transform',\n",
       " 'learning_rate': 0.001,\n",
       " 'mini_batch_size': 5}"
      ]
     },
     "execution_count": 9,
     "metadata": {},
     "output_type": "execute_result"
    }
   ],
   "source": [
    "num_classes=! ls -l {base_dir}/{dataset_name} | wc -l\n",
    "num_classes=int(num_classes[0]) - 1\n",
    "\n",
    "num_training_samples=! cat {base_dir}/{dataset_name}_train.lst | wc -l\n",
    "num_training_samples = int(num_training_samples[0])\n",
    "\n",
    "# Learn more about the Sagemaker built-in Image Classifier hyperparameters here: https://docs.aws.amazon.com/sagemaker/latest/dg/IC-Hyperparameter.html\n",
    "\n",
    "# These hyperparameters we won't want to change, as they define things like\n",
    "# the size of the images we'll be sending for input, the number of training classes we have, etc.\n",
    "base_hyperparameters=dict(\n",
    "    use_pretrained_model=1,\n",
    "    image_shape='3,224,224',\n",
    "    num_classes=num_classes,\n",
    "    num_training_samples=num_training_samples,\n",
    "    augmentation_type = 'crop_color_transform'\n",
    ")\n",
    "\n",
    "# These are hyperparameters we may want to tune, as they can affect the model training success:\n",
    "hyperparameters={\n",
    "    **base_hyperparameters, \n",
    "    **dict(\n",
    "        learning_rate=0.001,\n",
    "        mini_batch_size=5,\n",
    "    )\n",
    "}\n",
    "\n",
    "\n",
    "image_classifier.set_hyperparameters(**hyperparameters)\n",
    "\n",
    "hyperparameters"
   ]
  },
  {
   "cell_type": "markdown",
   "metadata": {},
   "source": [
    "### Start the training\n",
    "Train our model!\n",
    "\n",
    "This will take some time because it's provisioning a new container runtime to train our model, then the actual training happens, then the trained model gets uploaded to S3 and the container is shut down.\n",
    "\n",
    "More info here: https://sagemaker.readthedocs.io/en/stable/estimators.html#sagemaker.estimator.Estimator.fit"
   ]
  },
  {
   "cell_type": "code",
   "execution_count": 10,
   "metadata": {},
   "outputs": [
    {
     "name": "stdout",
     "output_type": "stream",
     "text": [
      "2019-10-31 16:31:19 Starting - Starting the training job...\n",
      "2019-10-31 16:31:21 Starting - Launching requested ML instances......\n",
      "2019-10-31 16:32:28 Starting - Preparing the instances for training......\n",
      "2019-10-31 16:33:40 Downloading - Downloading input data\n",
      "2019-10-31 16:33:40 Training - Downloading the training image.......\u001b[31mDocker entrypoint called with argument(s): train\u001b[0m\n",
      "\u001b[31m[10/31/2019 16:34:54 INFO 140078159701824] Reading default configuration from /opt/amazon/lib/python2.7/site-packages/image_classification/default-input.json: {u'beta_1': 0.9, u'gamma': 0.9, u'beta_2': 0.999, u'optimizer': u'sgd', u'use_pretrained_model': 0, u'eps': 1e-08, u'epochs': 30, u'lr_scheduler_factor': 0.1, u'num_layers': 152, u'image_shape': u'3,224,224', u'precision_dtype': u'float32', u'mini_batch_size': 32, u'weight_decay': 0.0001, u'learning_rate': 0.1, u'momentum': 0}\u001b[0m\n",
      "\u001b[31m[10/31/2019 16:34:54 INFO 140078159701824] Reading provided configuration from /opt/ml/input/config/hyperparameters.json: {u'image_shape': u'3,224,224', u'learning_rate': u'0.001', u'augmentation_type': u'crop_color_transform', u'mini_batch_size': u'5', u'use_pretrained_model': u'1', u'num_classes': u'6', u'num_training_samples': u'130'}\u001b[0m\n",
      "\u001b[31m[10/31/2019 16:34:54 INFO 140078159701824] Final configuration: {u'optimizer': u'sgd', u'learning_rate': u'0.001', u'epochs': 30, u'lr_scheduler_factor': 0.1, u'num_layers': 152, u'num_classes': u'6', u'precision_dtype': u'float32', u'mini_batch_size': u'5', u'augmentation_type': u'crop_color_transform', u'beta_1': 0.9, u'beta_2': 0.999, u'use_pretrained_model': u'1', u'eps': 1e-08, u'weight_decay': 0.0001, u'momentum': 0, u'image_shape': u'3,224,224', u'gamma': 0.9, u'num_training_samples': u'130'}\u001b[0m\n",
      "\u001b[31m[10/31/2019 16:34:54 INFO 140078159701824] Searching for .rec files in /opt/ml/input/data/train.\u001b[0m\n",
      "\u001b[31m[10/31/2019 16:34:54 INFO 140078159701824] Searching for .rec files in /opt/ml/input/data/validation.\u001b[0m\n",
      "\u001b[31m[10/31/2019 16:34:54 INFO 140078159701824] use_pretrained_model: 1\u001b[0m\n",
      "\u001b[31m[10/31/2019 16:34:54 INFO 140078159701824] multi_label: 0\u001b[0m\n",
      "\u001b[31m[10/31/2019 16:34:54 INFO 140078159701824] Using pretrained model for initializing weights and transfer learning.\u001b[0m\n",
      "\u001b[31m[10/31/2019 16:34:54 INFO 140078159701824] ---- Parameters ----\u001b[0m\n",
      "\u001b[31m[10/31/2019 16:34:54 INFO 140078159701824] num_layers: 152\u001b[0m\n",
      "\u001b[31m[10/31/2019 16:34:54 INFO 140078159701824] data type: <type 'numpy.float32'>\u001b[0m\n",
      "\u001b[31m[10/31/2019 16:34:54 INFO 140078159701824] epochs: 30\u001b[0m\n",
      "\u001b[31m[10/31/2019 16:34:54 INFO 140078159701824] optimizer: sgd\u001b[0m\n",
      "\u001b[31m[10/31/2019 16:34:54 INFO 140078159701824] momentum: 0.9\u001b[0m\n",
      "\u001b[31m[10/31/2019 16:34:54 INFO 140078159701824] weight_decay: 0.0001\u001b[0m\n",
      "\u001b[31m[10/31/2019 16:34:54 INFO 140078159701824] learning_rate: 0.001\u001b[0m\n",
      "\u001b[31m[10/31/2019 16:34:54 INFO 140078159701824] num_training_samples: 130\u001b[0m\n",
      "\u001b[31m[10/31/2019 16:34:54 INFO 140078159701824] mini_batch_size: 5\u001b[0m\n",
      "\u001b[31m[10/31/2019 16:34:54 INFO 140078159701824] image_shape: 3,224,224\u001b[0m\n",
      "\u001b[31m[10/31/2019 16:34:54 INFO 140078159701824] num_classes: 6\u001b[0m\n",
      "\u001b[31m[10/31/2019 16:34:54 INFO 140078159701824] augmentation_type: crop_color_transform\u001b[0m\n",
      "\u001b[31m[10/31/2019 16:34:54 INFO 140078159701824] kv_store: device\u001b[0m\n",
      "\u001b[31m[10/31/2019 16:34:54 INFO 140078159701824] checkpoint_frequency not set, will store the best model\u001b[0m\n",
      "\u001b[31m[10/31/2019 16:34:54 INFO 140078159701824] --------------------\u001b[0m\n",
      "\u001b[31m[16:34:54] /opt/brazil-pkg-cache/packages/AIAlgorithmsMXNet/AIAlgorithmsMXNet-1.3.x_ecl_Cuda_10.1.x.1085.0/AL2012/generic-flavor/src/src/nnvm/legacy_json_util.cc:209: Loading symbol saved by previous version v0.8.0. Attempting to upgrade...\u001b[0m\n",
      "\u001b[31m[16:34:54] /opt/brazil-pkg-cache/packages/AIAlgorithmsMXNet/AIAlgorithmsMXNet-1.3.x_ecl_Cuda_10.1.x.1085.0/AL2012/generic-flavor/src/src/nnvm/legacy_json_util.cc:217: Symbol successfully upgraded!\u001b[0m\n",
      "\u001b[31m[10/31/2019 16:34:56 INFO 140078159701824] Setting number of threads: 7\u001b[0m\n",
      "\u001b[31m[16:35:03] /opt/brazil-pkg-cache/packages/AIAlgorithmsMXNet/AIAlgorithmsMXNet-1.3.x_ecl_Cuda_10.1.x.1085.0/AL2012/generic-flavor/src/src/operator/nn/./cudnn/./cudnn_algoreg-inl.h:97: Running performance tests to find the best convolution algorithm, this can take a while... (setting env variable MXNET_CUDNN_AUTOTUNE_DEFAULT to 0 to disable)\u001b[0m\n",
      "\u001b[31m[10/31/2019 16:35:07 INFO 140078159701824] Epoch[0] Batch [20]#011Speed: 24.757 samples/sec#011accuracy=0.495238\u001b[0m\n",
      "\u001b[31m[10/31/2019 16:35:07 INFO 140078159701824] Epoch[0] Train-accuracy=0.576923\u001b[0m\n",
      "\u001b[31m[10/31/2019 16:35:07 INFO 140078159701824] Epoch[0] Time cost=4.485\u001b[0m\n",
      "\n",
      "2019-10-31 16:34:51 Training - Training image download completed. Training in progress.\u001b[31m[10/31/2019 16:35:07 INFO 140078159701824] Epoch[0] Validation-accuracy=0.872727\u001b[0m\n",
      "\u001b[31m[10/31/2019 16:35:08 INFO 140078159701824] Storing the best model with validation accuracy: 0.872727\u001b[0m\n",
      "\u001b[31m[10/31/2019 16:35:08 INFO 140078159701824] Saved checkpoint to \"/opt/ml/model/image-classification-0001.params\"\u001b[0m\n",
      "\u001b[31m[10/31/2019 16:35:10 INFO 140078159701824] Epoch[1] Batch [20]#011Speed: 51.505 samples/sec#011accuracy=0.904762\u001b[0m\n",
      "\u001b[31m[10/31/2019 16:35:11 INFO 140078159701824] Epoch[1] Train-accuracy=0.892308\u001b[0m\n",
      "\u001b[31m[10/31/2019 16:35:11 INFO 140078159701824] Epoch[1] Time cost=2.376\u001b[0m\n",
      "\u001b[31m[10/31/2019 16:35:11 INFO 140078159701824] Epoch[1] Validation-accuracy=0.963636\u001b[0m\n",
      "\u001b[31m[10/31/2019 16:35:11 INFO 140078159701824] Storing the best model with validation accuracy: 0.963636\u001b[0m\n",
      "\u001b[31m[10/31/2019 16:35:12 INFO 140078159701824] Saved checkpoint to \"/opt/ml/model/image-classification-0002.params\"\u001b[0m\n",
      "\u001b[31m[10/31/2019 16:35:13 INFO 140078159701824] Epoch[2] Batch [20]#011Speed: 52.805 samples/sec#011accuracy=0.961905\u001b[0m\n",
      "\u001b[31m[10/31/2019 16:35:14 INFO 140078159701824] Epoch[2] Train-accuracy=0.961538\u001b[0m\n",
      "\u001b[31m[10/31/2019 16:35:14 INFO 140078159701824] Epoch[2] Time cost=2.325\u001b[0m\n",
      "\u001b[31m[10/31/2019 16:35:14 INFO 140078159701824] Epoch[2] Validation-accuracy=0.981818\u001b[0m\n",
      "\u001b[31m[10/31/2019 16:35:15 INFO 140078159701824] Storing the best model with validation accuracy: 0.981818\u001b[0m\n",
      "\u001b[31m[10/31/2019 16:35:15 INFO 140078159701824] Saved checkpoint to \"/opt/ml/model/image-classification-0003.params\"\u001b[0m\n",
      "\u001b[31m[10/31/2019 16:35:17 INFO 140078159701824] Epoch[3] Batch [20]#011Speed: 53.259 samples/sec#011accuracy=0.923810\u001b[0m\n",
      "\u001b[31m[10/31/2019 16:35:17 INFO 140078159701824] Epoch[3] Train-accuracy=0.938462\u001b[0m\n",
      "\u001b[31m[10/31/2019 16:35:17 INFO 140078159701824] Epoch[3] Time cost=2.324\u001b[0m\n",
      "\u001b[31m[10/31/2019 16:35:18 INFO 140078159701824] Epoch[3] Validation-accuracy=0.981818\u001b[0m\n",
      "\u001b[31m[10/31/2019 16:35:20 INFO 140078159701824] Epoch[4] Batch [20]#011Speed: 52.854 samples/sec#011accuracy=1.000000\u001b[0m\n",
      "\u001b[31m[10/31/2019 16:35:20 INFO 140078159701824] Epoch[4] Train-accuracy=0.984615\u001b[0m\n",
      "\u001b[31m[10/31/2019 16:35:20 INFO 140078159701824] Epoch[4] Time cost=2.328\u001b[0m\n",
      "\u001b[31m[10/31/2019 16:35:21 INFO 140078159701824] Epoch[4] Validation-accuracy=0.981818\u001b[0m\n",
      "\u001b[31m[10/31/2019 16:35:23 INFO 140078159701824] Epoch[5] Batch [20]#011Speed: 52.920 samples/sec#011accuracy=0.980952\u001b[0m\n",
      "\u001b[31m[10/31/2019 16:35:23 INFO 140078159701824] Epoch[5] Train-accuracy=0.976923\u001b[0m\n",
      "\u001b[31m[10/31/2019 16:35:23 INFO 140078159701824] Epoch[5] Time cost=2.339\u001b[0m\n",
      "\u001b[31m[10/31/2019 16:35:24 INFO 140078159701824] Epoch[5] Validation-accuracy=0.981818\u001b[0m\n",
      "\u001b[31m[10/31/2019 16:35:26 INFO 140078159701824] Epoch[6] Batch [20]#011Speed: 53.512 samples/sec#011accuracy=0.980952\u001b[0m\n",
      "\u001b[31m[10/31/2019 16:35:27 INFO 140078159701824] Epoch[6] Train-accuracy=0.984615\u001b[0m\n",
      "\u001b[31m[10/31/2019 16:35:27 INFO 140078159701824] Epoch[6] Time cost=2.296\u001b[0m\n",
      "\u001b[31m[10/31/2019 16:35:27 INFO 140078159701824] Epoch[6] Validation-accuracy=1.000000\u001b[0m\n",
      "\u001b[31m[10/31/2019 16:35:27 INFO 140078159701824] Storing the best model with validation accuracy: 1.000000\u001b[0m\n",
      "\u001b[31m[10/31/2019 16:35:28 INFO 140078159701824] Saved checkpoint to \"/opt/ml/model/image-classification-0007.params\"\u001b[0m\n",
      "\u001b[31m[10/31/2019 16:35:29 INFO 140078159701824] Epoch[7] Batch [20]#011Speed: 53.276 samples/sec#011accuracy=0.990476\u001b[0m\n",
      "\u001b[31m[10/31/2019 16:35:30 INFO 140078159701824] Epoch[7] Train-accuracy=0.984615\u001b[0m\n",
      "\u001b[31m[10/31/2019 16:35:30 INFO 140078159701824] Epoch[7] Time cost=2.315\u001b[0m\n",
      "\u001b[31m[10/31/2019 16:35:30 INFO 140078159701824] Epoch[7] Validation-accuracy=0.981818\u001b[0m\n",
      "\u001b[31m[10/31/2019 16:35:33 INFO 140078159701824] Epoch[8] Batch [20]#011Speed: 51.928 samples/sec#011accuracy=0.961905\u001b[0m\n",
      "\u001b[31m[10/31/2019 16:35:33 INFO 140078159701824] Epoch[8] Train-accuracy=0.969231\u001b[0m\n",
      "\u001b[31m[10/31/2019 16:35:33 INFO 140078159701824] Epoch[8] Time cost=2.370\u001b[0m\n",
      "\u001b[31m[10/31/2019 16:35:33 INFO 140078159701824] Epoch[8] Validation-accuracy=0.981818\u001b[0m\n",
      "\u001b[31m[10/31/2019 16:35:36 INFO 140078159701824] Epoch[9] Batch [20]#011Speed: 52.818 samples/sec#011accuracy=0.990476\u001b[0m\n",
      "\u001b[31m[10/31/2019 16:35:36 INFO 140078159701824] Epoch[9] Train-accuracy=0.992308\u001b[0m\n",
      "\u001b[31m[10/31/2019 16:35:36 INFO 140078159701824] Epoch[9] Time cost=2.324\u001b[0m\n",
      "\u001b[31m[10/31/2019 16:35:37 INFO 140078159701824] Epoch[9] Validation-accuracy=0.981818\u001b[0m\n",
      "\u001b[31m[10/31/2019 16:35:39 INFO 140078159701824] Epoch[10] Batch [20]#011Speed: 52.256 samples/sec#011accuracy=1.000000\u001b[0m\n",
      "\u001b[31m[10/31/2019 16:35:39 INFO 140078159701824] Epoch[10] Train-accuracy=0.992308\u001b[0m\n",
      "\u001b[31m[10/31/2019 16:35:39 INFO 140078159701824] Epoch[10] Time cost=2.334\u001b[0m\n",
      "\u001b[31m[10/31/2019 16:35:40 INFO 140078159701824] Epoch[10] Validation-accuracy=0.981818\u001b[0m\n",
      "\u001b[31m[10/31/2019 16:35:42 INFO 140078159701824] Epoch[11] Batch [20]#011Speed: 52.145 samples/sec#011accuracy=0.980952\u001b[0m\n",
      "\u001b[31m[10/31/2019 16:35:42 INFO 140078159701824] Epoch[11] Train-accuracy=0.984615\u001b[0m\n",
      "\u001b[31m[10/31/2019 16:35:42 INFO 140078159701824] Epoch[11] Time cost=2.347\u001b[0m\n",
      "\u001b[31m[10/31/2019 16:35:43 INFO 140078159701824] Epoch[11] Validation-accuracy=0.981818\u001b[0m\n",
      "\u001b[31m[10/31/2019 16:35:45 INFO 140078159701824] Epoch[12] Batch [20]#011Speed: 52.717 samples/sec#011accuracy=1.000000\u001b[0m\n",
      "\u001b[31m[10/31/2019 16:35:46 INFO 140078159701824] Epoch[12] Train-accuracy=1.000000\u001b[0m\n",
      "\u001b[31m[10/31/2019 16:35:46 INFO 140078159701824] Epoch[12] Time cost=2.338\u001b[0m\n",
      "\u001b[31m[10/31/2019 16:35:46 INFO 140078159701824] Epoch[12] Validation-accuracy=0.981818\u001b[0m\n",
      "\u001b[31m[10/31/2019 16:35:48 INFO 140078159701824] Epoch[13] Batch [20]#011Speed: 53.029 samples/sec#011accuracy=1.000000\u001b[0m\n",
      "\u001b[31m[10/31/2019 16:35:49 INFO 140078159701824] Epoch[13] Train-accuracy=1.000000\u001b[0m\n",
      "\u001b[31m[10/31/2019 16:35:49 INFO 140078159701824] Epoch[13] Time cost=2.308\u001b[0m\n",
      "\u001b[31m[10/31/2019 16:35:49 INFO 140078159701824] Epoch[13] Validation-accuracy=0.981818\u001b[0m\n",
      "\u001b[31m[10/31/2019 16:35:51 INFO 140078159701824] Epoch[14] Batch [20]#011Speed: 52.806 samples/sec#011accuracy=0.961905\u001b[0m\n",
      "\u001b[31m[10/31/2019 16:35:52 INFO 140078159701824] Epoch[14] Train-accuracy=0.969231\u001b[0m\n",
      "\u001b[31m[10/31/2019 16:35:52 INFO 140078159701824] Epoch[14] Time cost=2.324\u001b[0m\n",
      "\u001b[31m[10/31/2019 16:35:52 INFO 140078159701824] Epoch[14] Validation-accuracy=0.981818\u001b[0m\n",
      "\u001b[31m[10/31/2019 16:35:54 INFO 140078159701824] Epoch[15] Batch [20]#011Speed: 53.391 samples/sec#011accuracy=1.000000\u001b[0m\n",
      "\u001b[31m[10/31/2019 16:35:55 INFO 140078159701824] Epoch[15] Train-accuracy=1.000000\u001b[0m\n",
      "\u001b[31m[10/31/2019 16:35:55 INFO 140078159701824] Epoch[15] Time cost=2.300\u001b[0m\n",
      "\u001b[31m[10/31/2019 16:35:55 INFO 140078159701824] Epoch[15] Validation-accuracy=0.981818\u001b[0m\n",
      "\u001b[31m[10/31/2019 16:35:58 INFO 140078159701824] Epoch[16] Batch [20]#011Speed: 53.262 samples/sec#011accuracy=1.000000\u001b[0m\n",
      "\u001b[31m[10/31/2019 16:35:58 INFO 140078159701824] Epoch[16] Train-accuracy=1.000000\u001b[0m\n",
      "\u001b[31m[10/31/2019 16:35:58 INFO 140078159701824] Epoch[16] Time cost=2.315\u001b[0m\n",
      "\u001b[31m[10/31/2019 16:35:58 INFO 140078159701824] Epoch[16] Validation-accuracy=0.981818\u001b[0m\n",
      "\u001b[31m[10/31/2019 16:36:01 INFO 140078159701824] Epoch[17] Batch [20]#011Speed: 51.641 samples/sec#011accuracy=1.000000\u001b[0m\n",
      "\u001b[31m[10/31/2019 16:36:01 INFO 140078159701824] Epoch[17] Train-accuracy=1.000000\u001b[0m\n",
      "\u001b[31m[10/31/2019 16:36:01 INFO 140078159701824] Epoch[17] Time cost=2.385\u001b[0m\n",
      "\u001b[31m[10/31/2019 16:36:01 INFO 140078159701824] Epoch[17] Validation-accuracy=0.981818\u001b[0m\n",
      "\u001b[31m[10/31/2019 16:36:04 INFO 140078159701824] Epoch[18] Batch [20]#011Speed: 51.942 samples/sec#011accuracy=1.000000\u001b[0m\n",
      "\u001b[31m[10/31/2019 16:36:04 INFO 140078159701824] Epoch[18] Train-accuracy=1.000000\u001b[0m\n",
      "\u001b[31m[10/31/2019 16:36:04 INFO 140078159701824] Epoch[18] Time cost=2.354\u001b[0m\n",
      "\u001b[31m[10/31/2019 16:36:05 INFO 140078159701824] Epoch[18] Validation-accuracy=0.981818\u001b[0m\n",
      "\u001b[31m[10/31/2019 16:36:07 INFO 140078159701824] Epoch[19] Batch [20]#011Speed: 52.845 samples/sec#011accuracy=0.980952\u001b[0m\n",
      "\u001b[31m[10/31/2019 16:36:07 INFO 140078159701824] Epoch[19] Train-accuracy=0.976923\u001b[0m\n",
      "\u001b[31m[10/31/2019 16:36:07 INFO 140078159701824] Epoch[19] Time cost=2.343\u001b[0m\n",
      "\u001b[31m[10/31/2019 16:36:08 INFO 140078159701824] Epoch[19] Validation-accuracy=0.981818\u001b[0m\n",
      "\u001b[31m[10/31/2019 16:36:10 INFO 140078159701824] Epoch[20] Batch [20]#011Speed: 53.712 samples/sec#011accuracy=1.000000\u001b[0m\n",
      "\u001b[31m[10/31/2019 16:36:11 INFO 140078159701824] Epoch[20] Train-accuracy=1.000000\u001b[0m\n",
      "\u001b[31m[10/31/2019 16:36:11 INFO 140078159701824] Epoch[20] Time cost=2.306\u001b[0m\n",
      "\u001b[31m[10/31/2019 16:36:11 INFO 140078159701824] Epoch[20] Validation-accuracy=0.981818\u001b[0m\n",
      "\u001b[31m[10/31/2019 16:36:13 INFO 140078159701824] Epoch[21] Batch [20]#011Speed: 52.275 samples/sec#011accuracy=0.990476\u001b[0m\n",
      "\u001b[31m[10/31/2019 16:36:14 INFO 140078159701824] Epoch[21] Train-accuracy=0.992308\u001b[0m\n",
      "\u001b[31m[10/31/2019 16:36:14 INFO 140078159701824] Epoch[21] Time cost=2.337\u001b[0m\n",
      "\u001b[31m[10/31/2019 16:36:14 INFO 140078159701824] Epoch[21] Validation-accuracy=0.981818\u001b[0m\n",
      "\u001b[31m[10/31/2019 16:36:16 INFO 140078159701824] Epoch[22] Batch [20]#011Speed: 53.418 samples/sec#011accuracy=0.990476\u001b[0m\n",
      "\u001b[31m[10/31/2019 16:36:17 INFO 140078159701824] Epoch[22] Train-accuracy=0.992308\u001b[0m\n",
      "\u001b[31m[10/31/2019 16:36:17 INFO 140078159701824] Epoch[22] Time cost=2.307\u001b[0m\n",
      "\u001b[31m[10/31/2019 16:36:17 INFO 140078159701824] Epoch[22] Validation-accuracy=0.981818\u001b[0m\n",
      "\u001b[31m[10/31/2019 16:36:19 INFO 140078159701824] Epoch[23] Batch [20]#011Speed: 53.040 samples/sec#011accuracy=0.990476\u001b[0m\n",
      "\u001b[31m[10/31/2019 16:36:20 INFO 140078159701824] Epoch[23] Train-accuracy=0.992308\u001b[0m\n",
      "\u001b[31m[10/31/2019 16:36:20 INFO 140078159701824] Epoch[23] Time cost=2.331\u001b[0m\n",
      "\u001b[31m[10/31/2019 16:36:20 INFO 140078159701824] Epoch[23] Validation-accuracy=0.981818\u001b[0m\n",
      "\u001b[31m[10/31/2019 16:36:23 INFO 140078159701824] Epoch[24] Batch [20]#011Speed: 52.714 samples/sec#011accuracy=1.000000\u001b[0m\n",
      "\u001b[31m[10/31/2019 16:36:23 INFO 140078159701824] Epoch[24] Train-accuracy=1.000000\u001b[0m\n",
      "\u001b[31m[10/31/2019 16:36:23 INFO 140078159701824] Epoch[24] Time cost=2.343\u001b[0m\n",
      "\u001b[31m[10/31/2019 16:36:23 INFO 140078159701824] Epoch[24] Validation-accuracy=0.981818\u001b[0m\n",
      "\u001b[31m[10/31/2019 16:36:26 INFO 140078159701824] Epoch[25] Batch [20]#011Speed: 53.118 samples/sec#011accuracy=1.000000\u001b[0m\n",
      "\u001b[31m[10/31/2019 16:36:26 INFO 140078159701824] Epoch[25] Train-accuracy=1.000000\u001b[0m\n",
      "\u001b[31m[10/31/2019 16:36:26 INFO 140078159701824] Epoch[25] Time cost=2.323\u001b[0m\n",
      "\u001b[31m[10/31/2019 16:36:26 INFO 140078159701824] Epoch[25] Validation-accuracy=0.981818\u001b[0m\n",
      "\u001b[31m[10/31/2019 16:36:29 INFO 140078159701824] Epoch[26] Batch [20]#011Speed: 52.822 samples/sec#011accuracy=1.000000\u001b[0m\n",
      "\u001b[31m[10/31/2019 16:36:29 INFO 140078159701824] Epoch[26] Train-accuracy=1.000000\u001b[0m\n",
      "\u001b[31m[10/31/2019 16:36:29 INFO 140078159701824] Epoch[26] Time cost=2.332\u001b[0m\n",
      "\u001b[31m[10/31/2019 16:36:30 INFO 140078159701824] Epoch[26] Validation-accuracy=0.981818\u001b[0m\n",
      "\u001b[31m[10/31/2019 16:36:32 INFO 140078159701824] Epoch[27] Batch [20]#011Speed: 52.796 samples/sec#011accuracy=0.990476\u001b[0m\n",
      "\u001b[31m[10/31/2019 16:36:32 INFO 140078159701824] Epoch[27] Train-accuracy=0.992308\u001b[0m\n",
      "\u001b[31m[10/31/2019 16:36:32 INFO 140078159701824] Epoch[27] Time cost=2.338\u001b[0m\n",
      "\u001b[31m[10/31/2019 16:36:33 INFO 140078159701824] Epoch[27] Validation-accuracy=0.981818\u001b[0m\n",
      "\u001b[31m[10/31/2019 16:36:35 INFO 140078159701824] Epoch[28] Batch [20]#011Speed: 52.908 samples/sec#011accuracy=0.990476\u001b[0m\n",
      "\u001b[31m[10/31/2019 16:36:36 INFO 140078159701824] Epoch[28] Train-accuracy=0.992308\u001b[0m\n",
      "\u001b[31m[10/31/2019 16:36:36 INFO 140078159701824] Epoch[28] Time cost=2.326\u001b[0m\n",
      "\u001b[31m[10/31/2019 16:36:36 INFO 140078159701824] Epoch[28] Validation-accuracy=0.981818\u001b[0m\n",
      "\u001b[31m[10/31/2019 16:36:38 INFO 140078159701824] Epoch[29] Batch [20]#011Speed: 52.971 samples/sec#011accuracy=1.000000\u001b[0m\n",
      "\u001b[31m[10/31/2019 16:36:39 INFO 140078159701824] Epoch[29] Train-accuracy=1.000000\u001b[0m\n",
      "\u001b[31m[10/31/2019 16:36:39 INFO 140078159701824] Epoch[29] Time cost=2.324\u001b[0m\n",
      "\u001b[31m[10/31/2019 16:36:39 INFO 140078159701824] Epoch[29] Validation-accuracy=0.981818\u001b[0m\n",
      "\n",
      "2019-10-31 16:36:43 Uploading - Uploading generated training model\n",
      "2019-10-31 16:37:14 Completed - Training job completed\n",
      "Training seconds: 226\n",
      "Billable seconds: 226\n",
      "\n",
      "\n",
      " Finished training! The model is available for download at: s3://sagemaker-us-east-1-023375022819/recycle-images/output/IC-recycle-images-1572539479/output/model.tar.gz\n",
      "CPU times: user 769 ms, sys: 36.9 ms, total: 806 ms\n",
      "Wall time: 6min 14s\n"
     ]
    }
   ],
   "source": [
    "%%time\n",
    "\n",
    "import time\n",
    "now = str(int(time.time()))\n",
    "training_job_name = 'IC-' + dataset_name.replace('_', '-') + '-' + now\n",
    "\n",
    "image_classifier.fit(inputs=data_channels, job_name=training_job_name, logs=True)\n",
    "\n",
    "job = image_classifier.latest_training_job\n",
    "model_path = f\"{base_dir}/{job.name}\"\n",
    "\n",
    "print(f\"\\n\\n Finished training! The model is available for download at: {image_classifier.output_path}/{job.name}/output/model.tar.gz\")"
   ]
  },
  {
   "cell_type": "markdown",
   "metadata": {},
   "source": [
    "## Deploy the trained model\n",
    "Once a model has been trained, we can use the same `image_classifier` object to create a deployed, fully-managed endpoint.}\n",
    "\n",
    "More info here: https://sagemaker.readthedocs.io/en/stable/estimators.html#sagemaker.estimator.Estimator.deploy"
   ]
  },
  {
   "cell_type": "code",
   "execution_count": 11,
   "metadata": {},
   "outputs": [
    {
     "name": "stdout",
     "output_type": "stream",
     "text": [
      "----------------------------------------------------------------------------------------------------------------------------------------------------------------!CPU times: user 786 ms, sys: 56.7 ms, total: 843 ms\n",
      "Wall time: 13min 28s\n"
     ]
    }
   ],
   "source": [
    "%%time\n",
    "# Deploying a model to an endpoint takes a few minutes to complete\n",
    "\n",
    "deployed_endpoint = image_classifier.deploy(\n",
    "    initial_instance_count = 1,\n",
    "    instance_type = 'ml.t2.medium',\n",
    "    endpoint_name = 'recycle-guru-endpoint'\n",
    "    #update_endpoint = 'True'\n",
    ")\n",
    "\n",
    "# update_endpoint = 'True'"
   ]
  },
  {
   "cell_type": "markdown",
   "metadata": {},
   "source": [
    "### Clean up\n",
    "\n",
    "When we're done with the endpoint, we can just delete it and the backing instances will be released.  Run the following cell to delete the endpoint."
   ]
  },
  {
   "cell_type": "code",
   "execution_count": null,
   "metadata": {},
   "outputs": [],
   "source": [
    "#deployed_endpoint.delete_endpoint()"
   ]
  },
  {
   "cell_type": "markdown",
   "metadata": {},
   "source": [
    "## Calling a deployed endpoint from Python code\n",
    "\n",
    "If you want to try using a deployed endpoint from Python, here's a function that you can use. It takes in a path to the image you'd like to classify, and a list of all the classes used for training."
   ]
  },
  {
   "cell_type": "code",
   "execution_count": null,
   "metadata": {},
   "outputs": [],
   "source": [
    "import json\n",
    "import numpy as np\n",
    "import os\n",
    "\n",
    "def classify_deployed(file_name, classes):\n",
    "    payload = None\n",
    "    with open(file_name, 'rb') as f:\n",
    "        payload = f.read()\n",
    "        payload = bytearray(payload)\n",
    "\n",
    "    deployed_endpoint.content_type = 'application/x-image'\n",
    "    result = json.loads(deployed_endpoint.predict(payload))\n",
    "    print(result)\n",
    "    best_prob_index = np.argmax(result)\n",
    "    print(best_prob_index)\n",
    "    return (classes[best_prob_index], result[best_prob_index])\n",
    "\n"
   ]
  },
  {
   "cell_type": "code",
   "execution_count": null,
   "metadata": {},
   "outputs": [],
   "source": [
    "deployed_endpoint"
   ]
  },
  {
   "cell_type": "code",
   "execution_count": null,
   "metadata": {},
   "outputs": [],
   "source": [
    "#file_name = \"s3://vision-recycle/pryan-test/water_bottle/water_bottle_0KxQl.png\"\n",
    "#file_name = 'plastic-empty-water-bottle-500x500.jpg'\n",
    "#file_name = 'iittala-arabia-24h-mug-9.jpg'\n",
    "file_name = 'coffee_2tRdu_n.png'\n",
    "classes = ['coffee','water_bottle']\n",
    "classify_deployed(file_name, classes)"
   ]
  },
  {
   "cell_type": "code",
   "execution_count": null,
   "metadata": {},
   "outputs": [],
   "source": [
    "classes[0]"
   ]
  },
  {
   "cell_type": "markdown",
   "metadata": {},
   "source": [
    "## (Optional) Perform Hyperparameter Tuning\n",
    "\n",
    "Often, you might not know which values for hyperparameters like `learning_rate` and `mini_batch_size` will yield acceptible results. Traditionally, this meant manually running many training jobs with different hyperparameter values, looking at each trained model's performance, and then picking a winner. \n",
    "\n",
    "This type of manual tuning is _very_ time consuming, so you can automate this process using automatic model tuning with SageMaker. Here's some example code to illustrate how to start one of these jobs using the SageMaker Python SDK.\n",
    "\n",
    "More info here about automatic model tuning: https://docs.aws.amazon.com/sagemaker/latest/dg/automatic-model-tuning.html\n",
    "\n",
    "More info about model tuning for the Image Classification algorithm: https://docs.aws.amazon.com/sagemaker/latest/dg/IC-tuning.html"
   ]
  },
  {
   "cell_type": "code",
   "execution_count": null,
   "metadata": {},
   "outputs": [],
   "source": [
    "from sagemaker.tuner import HyperparameterTuner, IntegerParameter, CategoricalParameter, ContinuousParameter\n",
    "hyperparameter_ranges = {'optimizer': CategoricalParameter(['sgd', 'adam']),\n",
    "                         'learning_rate': ContinuousParameter(0.0001, 0.1),\n",
    "                         'mini_batch_size': IntegerParameter(2, 32),\n",
    "                        }\n",
    "\n",
    "objective_metric_name = 'validation:accuracy'\n",
    "\n",
    "tuner = HyperparameterTuner(image_classifier,\n",
    "                            objective_metric_name,\n",
    "                            hyperparameter_ranges,\n",
    "                            max_jobs=50,\n",
    "                            max_parallel_jobs=3)\n",
    "\n",
    "tuner.fit(inputs=data_channels, logs=True, include_cls_metadata=False)"
   ]
  },
  {
   "cell_type": "markdown",
   "metadata": {},
   "source": [
    "## Great resources to continue your Deep Learning journey\n",
    "\n",
    "[3Blue1Brown’s YouTube series on Neural Networks ~ 60 Minutes](https://www.youtube.com/playlist?list=PLZHQObOWTQDNU6R1_67000Dx_ZCJB-3pi)\n",
    "\n",
    "[Fast.ai’s Practical Deep Learning for Coders ~ 14 Hours](http://www.fast.ai/)\n",
    "    \n",
    "[Amazon's Machine Learning University ~ More than 45 hours of courses, videos, and labs](https://aws.amazon.com/training/learning-paths/machine-learning/)\n",
    "    \n",
    "[Neural Networks and Deep Learning, by Michael Neilsen ~ 6 Chapter Book](http://neuralnetworksanddeeplearning.com/)\n",
    "\n",
    "[Amazon SageMaker - Fully-managed Platform](https://aws.amazon.com/sagemaker/)\n",
    "    \n",
    "[@gabehollombe's](https://twitter.com/gabehollombe) deep learning tools and demos\n",
    "- [Jupyter Notebooks](https://github.com/gabehollombe-aws/jupyter-notebooks)\n",
    "- [Webcam S3 Uploader Tool](https://github.com/gabehollombe-aws/webcam-s3-uploader)\n",
    "- [SageMaker Inference Web Tool](https://github.com/gabehollombe-aws/webcam-sagemaker-inference)\n"
   ]
  },
  {
   "cell_type": "code",
   "execution_count": null,
   "metadata": {},
   "outputs": [],
   "source": []
  }
 ],
 "metadata": {
  "kernelspec": {
   "display_name": "conda_mxnet_p36",
   "language": "python",
   "name": "conda_mxnet_p36"
  },
  "language_info": {
   "codemirror_mode": {
    "name": "ipython",
    "version": 3
   },
   "file_extension": ".py",
   "mimetype": "text/x-python",
   "name": "python",
   "nbconvert_exporter": "python",
   "pygments_lexer": "ipython3",
   "version": "3.6.5"
  },
  "notice": "Copyright 2018 Amazon.com, Inc. or its affiliates. All Rights Reserved.  Licensed under the Apache License, Version 2.0 (the \"License\"). You may not use this file except in compliance with the License. A copy of the License is located at http://aws.amazon.com/apache2.0/ or in the \"license\" file accompanying this file. This file is distributed on an \"AS IS\" BASIS, WITHOUT WARRANTIES OR CONDITIONS OF ANY KIND, either express or implied. See the License for the specific language governing permissions and limitations under the License."
 },
 "nbformat": 4,
 "nbformat_minor": 4
}
